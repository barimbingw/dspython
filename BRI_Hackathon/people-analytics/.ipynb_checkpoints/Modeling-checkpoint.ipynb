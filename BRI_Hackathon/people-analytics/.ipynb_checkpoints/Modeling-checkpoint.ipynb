{
 "cells": [
  {
   "cell_type": "code",
   "execution_count": 1,
   "metadata": {},
   "outputs": [],
   "source": [
    "import pandas as pd\n",
    "import matplotlib.pyplot as plt\n",
    "import seaborn as sns\n",
    "import numpy as np\n",
    "import math, random, os\n",
    "from scipy import stats\n",
    "sns.set()"
   ]
  },
  {
   "cell_type": "code",
   "execution_count": 2,
   "metadata": {},
   "outputs": [],
   "source": [
    "from sklearn.model_selection import train_test_split, GridSearchCV\n",
    "from sklearn.preprocessing import StandardScaler,MinMaxScaler, OneHotEncoder\n",
    "from sklearn.impute import SimpleImputer\n",
    "from sklearn.compose import ColumnTransformer\n",
    "from sklearn.pipeline import Pipeline\n",
    "from sklearn.metrics import auc, confusion_matrix\n",
    "\n",
    "from sklearn.linear_model import LogisticRegression\n",
    "from sklearn.tree import DecisionTreeClassifier\n",
    "from sklearn.neural_network import MLPClassifier, MLPRegressor"
   ]
  },
  {
   "cell_type": "code",
   "execution_count": 3,
   "metadata": {},
   "outputs": [],
   "source": [
    "df = pd.read_csv(r'./train.csv')\n",
    "df['Education_level'] = df['Education_level'].apply(lambda x: int(x.split('_')[-1]))\n",
    "\n",
    "cat_columns = [col for col in df.columns if df.dtypes[col]==np.dtype('O')]\n",
    "cat_columns.extend(['gender',])\n",
    "num_columns = [col for col in df.columns if col not in cat_columns]\n",
    "target_column = num_columns.pop()"
   ]
  },
  {
   "cell_type": "code",
   "execution_count": 4,
   "metadata": {},
   "outputs": [],
   "source": [
    "def noisy_invlogit(p):\n",
    "#     print(p[p>=1].shape)\n",
    "    p[p>=1] = 0.9 + (2*np.random.rand(p[p>=1].shape[0])-1)*0.05\n",
    "#     plt.hist(d)\n",
    "#     print(p[p<=0].shape)\n",
    "    p[p<=0] = 0.1 + (2*np.random.rand(p[p<=0].shape[0])-1)*0.05\n",
    "#     plt.scatter(range(p.size),p)\n",
    "    return np.log(p/(1-p))\n",
    "\n",
    "def get_class(x):\n",
    "    y = 1/(1+np.exp(-x))\n",
    "    y[y<0.5] = 0\n",
    "    y[y>0.5] = 1\n",
    "    return y\n",
    "\n",
    "X = df.drop(target_column, axis = 1)\n",
    "y = df[target_column]\n",
    "X_train, X_test, y_tr, y_te =  train_test_split(X, y, test_size = 0.25, stratify = y)\n",
    "y_train = noisy_invlogit(y_tr.copy())\n",
    "y_test = noisy_invlogit(y_te.copy())"
   ]
  },
  {
   "cell_type": "code",
   "execution_count": 5,
   "metadata": {},
   "outputs": [],
   "source": [
    "num_pipe = Pipeline([\n",
    "    ('imputer', SimpleImputer(strategy = 'median')),\n",
    "    ('scaler', StandardScaler())\n",
    "])\n",
    "cat_pipe = Pipeline([\n",
    "    ('imputer', SimpleImputer(strategy = 'most_frequent')),\n",
    "    ('encoder', OneHotEncoder())\n",
    "])\n",
    "preprocessor = ColumnTransformer([\n",
    "    ('numerical', num_pipe, num_columns),\n",
    "    ('categorical', cat_pipe, cat_columns)\n",
    "])"
   ]
  },
  {
   "cell_type": "code",
   "execution_count": 6,
   "metadata": {},
   "outputs": [],
   "source": [
    "LR = Pipeline([\n",
    "    ('prep', preprocessor),\n",
    "    ('algo', LogisticRegression())\n",
    "])"
   ]
  },
  {
   "cell_type": "code",
   "execution_count": 7,
   "metadata": {},
   "outputs": [],
   "source": [
    "# params = {'algo__penalty' : ['l1', 'l2']}\n",
    "\n",
    "# model = GridSearchCV(LR, params, cv = 4, n_jobs = -1, verbose = 10)\n",
    "# model.fit(X_train, y_train)\n",
    "\n",
    "# print('Best Parameter :', end = '')\n",
    "# print(model.best_params_)\n",
    "# print(f'Train Score : {model.score(X_train, y_train)}')\n",
    "# print(f'Test Score : {model.score(X_test, y_test)}')"
   ]
  },
  {
   "cell_type": "code",
   "execution_count": 8,
   "metadata": {},
   "outputs": [
    {
     "name": "stderr",
     "output_type": "stream",
     "text": [
      "C:\\Users\\lenovo\\Anaconda3\\lib\\site-packages\\sklearn\\neural_network\\multilayer_perceptron.py:566: ConvergenceWarning: Stochastic Optimizer: Maximum iterations (100) reached and the optimization hasn't converged yet.\n",
      "  % self.max_iter, ConvergenceWarning)\n"
     ]
    },
    {
     "data": {
      "text/plain": [
       "'identity'"
      ]
     },
     "execution_count": 8,
     "metadata": {},
     "output_type": "execute_result"
    }
   ],
   "source": [
    "MLP = Pipeline([\n",
    "    ('prep', preprocessor),\n",
    "    ('algo', MLPRegressor(hidden_layer_sizes= (50,25), activation='relu',\n",
    "                           solver = 'adam', max_iter = 100, alpha=0.1))\n",
    "])\n",
    "\n",
    "MLP['algo'].out_activation_ = 'logistic'\n",
    "MLP.fit(X_train, y_train)\n",
    "MLP['algo'].out_activation_"
   ]
  },
  {
   "cell_type": "code",
   "execution_count": 11,
   "metadata": {},
   "outputs": [
    {
     "data": {
      "text/plain": [
       "(2789,)"
      ]
     },
     "execution_count": 11,
     "metadata": {},
     "output_type": "execute_result"
    }
   ],
   "source": [
    "confusion_matrix(y_te, get_class(MLP.predict(X_test)))\n",
    "y_te.shape"
   ]
  },
  {
   "cell_type": "code",
   "execution_count": null,
   "metadata": {},
   "outputs": [],
   "source": [
    "# params = {'algo__penalty' : ['l1', 'l2']}\n",
    "\n",
    "# model = GridSearchCV(LR, params, cv = 4, n_jobs = -1, verbose = 10)\n",
    "# model.fit(X_train, y_train)\n",
    "\n",
    "# print('Best Parameter :', end = '')\n",
    "# print(model.best_params_)\n",
    "# print(f'Train Score : {model.score(X_train, y_train)}')\n",
    "# print(f'Test Score : {model.score(X_test, y_test)}')"
   ]
  },
  {
   "cell_type": "code",
   "execution_count": 14,
   "metadata": {},
   "outputs": [],
   "source": [
    "y_p = MLP.predict(X_test)\n",
    "cla = get_class(y_p)"
   ]
  },
  {
   "cell_type": "code",
   "execution_count": 22,
   "metadata": {},
   "outputs": [
    {
     "data": {
      "text/plain": [
       "-1.7347058989508486"
      ]
     },
     "execution_count": 22,
     "metadata": {},
     "output_type": "execute_result"
    }
   ],
   "source": [
    "y_test.max()"
   ]
  },
  {
   "cell_type": "code",
   "execution_count": 25,
   "metadata": {},
   "outputs": [
    {
     "data": {
      "text/plain": [
       "302     -2.673412\n",
       "2289    -1.839916\n",
       "11133   -2.212921\n",
       "5118    -2.233733\n",
       "8888    -2.055898\n",
       "           ...   \n",
       "657     -1.986858\n",
       "3789    -1.919626\n",
       "5406    -2.646896\n",
       "4879    -1.909961\n",
       "9657    -2.030786\n",
       "Name: Best Performance, Length: 2789, dtype: float64"
      ]
     },
     "execution_count": 25,
     "metadata": {},
     "output_type": "execute_result"
    }
   ],
   "source": [
    "noisy_invlogit(y_te)"
   ]
  },
  {
   "cell_type": "code",
   "execution_count": null,
   "metadata": {},
   "outputs": [],
   "source": []
  }
 ],
 "metadata": {
  "kernelspec": {
   "display_name": "Python 3",
   "language": "python",
   "name": "python3"
  },
  "language_info": {
   "codemirror_mode": {
    "name": "ipython",
    "version": 3
   },
   "file_extension": ".py",
   "mimetype": "text/x-python",
   "name": "python",
   "nbconvert_exporter": "python",
   "pygments_lexer": "ipython3",
   "version": "3.7.4"
  }
 },
 "nbformat": 4,
 "nbformat_minor": 2
}
