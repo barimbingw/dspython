{
 "cells": [
  {
   "cell_type": "code",
   "execution_count": 1,
   "metadata": {},
   "outputs": [],
   "source": [
    "import pandas as pd\n",
    "import matplotlib.pyplot as plt\n",
    "import seaborn as sns\n",
    "import numpy as np\n",
    "import math, random, os\n",
    "from scipy import stats\n",
    "sns.set()"
   ]
  },
  {
   "cell_type": "code",
   "execution_count": 2,
   "metadata": {},
   "outputs": [],
   "source": [
    "from sklearn.model_selection import train_test_split, GridSearchCV\n",
    "from sklearn.preprocessing import StandardScaler,MinMaxScaler, OneHotEncoder\n",
    "from sklearn.impute import SimpleImputer\n",
    "from sklearn.compose import ColumnTransformer\n",
    "from sklearn.pipeline import Pipeline\n",
    "from sklearn.metrics import auc, confusion_matrix\n",
    "\n",
    "from sklearn.linear_model import LogisticRegression\n",
    "from sklearn.tree import DecisionTreeClassifier\n",
    "from sklearn.neural_network import MLPClassifier, MLPRegressor"
   ]
  },
  {
   "cell_type": "code",
   "execution_count": 3,
   "metadata": {},
   "outputs": [],
   "source": [
    "df = pd.read_csv(r'./train.csv')\n",
    "df['Education_level'] = df['Education_level'].apply(lambda x: int(x.split('_')[-1]))\n",
    "\n",
    "cat_columns = [col for col in df.columns if df.dtypes[col]==np.dtype('O')]\n",
    "cat_columns.extend(['gender',])\n",
    "num_columns = [col for col in df.columns if col not in cat_columns]\n",
    "target_column = num_columns.pop()"
   ]
  },
  {
   "cell_type": "code",
   "execution_count": 18,
   "metadata": {},
   "outputs": [],
   "source": [
    "def noisy_invlogit(p):\n",
    "#     print(p[p>=1].shape)\n",
    "    p[p>=1] = 0.9 + (2*np.random.rand(p[p>=1].shape[0])-1)*0.05\n",
    "#     plt.hist(d)\n",
    "#     print(p[p<=0].shape)\n",
    "    p[p<=0] = 0.1 + (2*np.random.rand(p[p<=0].shape[0])-1)*0.05\n",
    "#     plt.scatter(range(p.size),p)\n",
    "    return np.log(p/(1-p))\n",
    "\n",
    "def get_class(x):\n",
    "    y = 1/(1+np.exp(-x))\n",
    "    y[y<0.5] = 0\n",
    "    y[y>0.5] = 1\n",
    "    return y\n",
    "\n",
    "X = df.drop(target_column, axis = 1)\n",
    "y = df[target_column].copy()\n",
    "X_train, X_test, y_tr, y_te =  train_test_split(X, y, test_size = 0.25, stratify = y, random_state=0)\n",
    "y_train = noisy_invlogit(y_tr.copy())\n",
    "y_test = noisy_invlogit(y_te.copy())"
   ]
  },
  {
   "cell_type": "code",
   "execution_count": 5,
   "metadata": {},
   "outputs": [],
   "source": [
    "num_pipe = Pipeline([\n",
    "    ('imputer', SimpleImputer(strategy = 'median')),\n",
    "    ('scaler', StandardScaler())\n",
    "])\n",
    "cat_pipe = Pipeline([\n",
    "    ('imputer', SimpleImputer(strategy = 'most_frequent')),\n",
    "    ('encoder', OneHotEncoder())\n",
    "])\n",
    "preprocessor = ColumnTransformer([\n",
    "    ('numerical', num_pipe, num_columns),\n",
    "    ('categorical', cat_pipe, cat_columns)\n",
    "])"
   ]
  },
  {
   "cell_type": "code",
   "execution_count": 6,
   "metadata": {},
   "outputs": [],
   "source": [
    "LR = Pipeline([\n",
    "    ('prep', preprocessor),\n",
    "    ('algo', LogisticRegression())\n",
    "])"
   ]
  },
  {
   "cell_type": "code",
   "execution_count": 7,
   "metadata": {},
   "outputs": [],
   "source": [
    "# params = {'algo__penalty' : ['l1', 'l2']}\n",
    "\n",
    "# model = GridSearchCV(LR, params, cv = 4, n_jobs = -1, verbose = 10)\n",
    "# model.fit(X_train, y_train)\n",
    "\n",
    "# print('Best Parameter :', end = '')\n",
    "# print(model.best_params_)\n",
    "# print(f'Train Score : {model.score(X_train, y_train)}')\n",
    "# print(f'Test Score : {model.score(X_test, y_test)}')"
   ]
  },
  {
   "cell_type": "code",
   "execution_count": 8,
   "metadata": {},
   "outputs": [
    {
     "name": "stderr",
     "output_type": "stream",
     "text": [
      "C:\\Users\\lenovo\\Anaconda3\\lib\\site-packages\\sklearn\\neural_network\\multilayer_perceptron.py:566: ConvergenceWarning: Stochastic Optimizer: Maximum iterations (100) reached and the optimization hasn't converged yet.\n",
      "  % self.max_iter, ConvergenceWarning)\n"
     ]
    },
    {
     "data": {
      "text/plain": [
       "'identity'"
      ]
     },
     "execution_count": 8,
     "metadata": {},
     "output_type": "execute_result"
    }
   ],
   "source": [
    "MLP = Pipeline([\n",
    "    ('prep', preprocessor),\n",
    "    ('algo', MLPRegressor(hidden_layer_sizes= (50,25), activation='relu',\n",
    "                           solver = 'adam', max_iter = 100, alpha=0.1))\n",
    "])\n",
    "\n",
    "MLP['algo'].out_activation_ = 'logistic'\n",
    "MLP.fit(X_train, y_train)\n",
    "MLP['algo'].out_activation_"
   ]
  },
  {
   "cell_type": "code",
   "execution_count": 9,
   "metadata": {},
   "outputs": [
    {
     "data": {
      "text/plain": [
       "(2789,)"
      ]
     },
     "execution_count": 9,
     "metadata": {},
     "output_type": "execute_result"
    }
   ],
   "source": [
    "confusion_matrix(y_te, get_class(MLP.predict(X_test)))\n",
    "y_te.shape"
   ]
  },
  {
   "cell_type": "code",
   "execution_count": 10,
   "metadata": {},
   "outputs": [],
   "source": [
    "# params = {'algo__penalty' : ['l1', 'l2']}\n",
    "\n",
    "# model = GridSearchCV(LR, params, cv = 4, n_jobs = -1, verbose = 10)\n",
    "# model.fit(X_train, y_train)\n",
    "\n",
    "# print('Best Parameter :', end = '')\n",
    "# print(model.best_params_)\n",
    "# print(f'Train Score : {model.score(X_train, y_train)}')\n",
    "# print(f'Test Score : {model.score(X_test, y_test)}')"
   ]
  },
  {
   "cell_type": "code",
   "execution_count": 11,
   "metadata": {},
   "outputs": [],
   "source": [
    "y_p = MLP.predict(X_test)\n",
    "cla = get_class(y_p)"
   ]
  },
  {
   "cell_type": "code",
   "execution_count": 12,
   "metadata": {},
   "outputs": [
    {
     "data": {
      "text/plain": [
       "-1.7347019887314996"
      ]
     },
     "execution_count": 12,
     "metadata": {},
     "output_type": "execute_result"
    }
   ],
   "source": [
    "y_test.max()"
   ]
  },
  {
   "cell_type": "code",
   "execution_count": 15,
   "metadata": {},
   "outputs": [
    {
     "data": {
      "text/plain": [
       "(3364   -1.795815\n",
       " 5175   -2.207946\n",
       " 4517   -2.873007\n",
       " 2742   -1.783268\n",
       " 6307   -1.862305\n",
       "           ...   \n",
       " 1175   -2.644301\n",
       " 9485   -2.829501\n",
       " 1001   -2.396418\n",
       " 5284   -1.903953\n",
       " 8635   -2.206500\n",
       " Name: Best Performance, Length: 2789, dtype: float64, 3364    0.142361\n",
       " 5175    0.099039\n",
       " 4517    0.053504\n",
       " 2742    0.143900\n",
       " 6307    0.134435\n",
       "           ...   \n",
       " 1175    0.066341\n",
       " 9485    0.055751\n",
       " 1001    0.083446\n",
       " 5284    0.129662\n",
       " 8635    0.099168\n",
       " Name: Best Performance, Length: 2789, dtype: float64)"
      ]
     },
     "execution_count": 15,
     "metadata": {},
     "output_type": "execute_result"
    }
   ],
   "source": [
    "noisy_invlogit(y_te), y_te"
   ]
  },
  {
   "cell_type": "code",
   "execution_count": 16,
   "metadata": {},
   "outputs": [
    {
     "data": {
      "text/plain": [
       "0    9516\n",
       "1    1637\n",
       "Name: Best Performance, dtype: int64"
      ]
     },
     "execution_count": 16,
     "metadata": {},
     "output_type": "execute_result"
    }
   ],
   "source": [
    "df['Best Performance'].value_counts()"
   ]
  },
  {
   "cell_type": "code",
   "execution_count": 17,
   "metadata": {},
   "outputs": [
    {
     "data": {
      "text/plain": [
       "0        0\n",
       "1        0\n",
       "2        0\n",
       "3        1\n",
       "4        0\n",
       "        ..\n",
       "11148    0\n",
       "11149    0\n",
       "11150    0\n",
       "11151    0\n",
       "11152    0\n",
       "Name: Best Performance, Length: 11153, dtype: int64"
      ]
     },
     "execution_count": 17,
     "metadata": {},
     "output_type": "execute_result"
    }
   ],
   "source": [
    "y"
   ]
  },
  {
   "cell_type": "code",
   "execution_count": null,
   "metadata": {},
   "outputs": [],
   "source": []
  }
 ],
 "metadata": {
  "kernelspec": {
   "display_name": "Python 3",
   "language": "python",
   "name": "python3"
  },
  "language_info": {
   "codemirror_mode": {
    "name": "ipython",
    "version": 3
   },
   "file_extension": ".py",
   "mimetype": "text/x-python",
   "name": "python",
   "nbconvert_exporter": "python",
   "pygments_lexer": "ipython3",
   "version": "3.7.4"
  }
 },
 "nbformat": 4,
 "nbformat_minor": 2
}
