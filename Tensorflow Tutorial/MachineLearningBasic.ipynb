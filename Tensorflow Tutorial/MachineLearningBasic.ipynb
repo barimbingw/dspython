{
 "cells": [
  {
   "cell_type": "code",
   "execution_count": null,
   "metadata": {},
   "outputs": [],
   "source": []
  },
  {
   "cell_type": "code",
   "execution_count": 1,
   "metadata": {},
   "outputs": [],
   "source": [
    "# Import Libraries\n",
    "import tensorflow as tf\n",
    "import numpy as np\n",
    "import pandas as pd\n",
    "import matplotlib.pyplot as plt"
   ]
  },
  {
   "cell_type": "markdown",
   "metadata": {},
   "source": [
    "### Note\n",
    "Algorithm:\n",
    "1. Linear Regression\n",
    "2. Classification\n",
    "3. Clustering\n",
    "4. Hidden Markov Models"
   ]
  },
  {
   "cell_type": "code",
   "execution_count": 2,
   "metadata": {},
   "outputs": [
    {
     "name": "stderr",
     "output_type": "stream",
     "text": [
      "C:\\Users\\lenovo\\Anaconda3\\lib\\site-packages\\matplotlib\\collections.py:857: RuntimeWarning: invalid value encountered in sqrt\n",
      "  scale = np.sqrt(self._sizes) * dpi / 72.0 * self._factor\n"
     ]
    },
    {
     "data": {
      "text/plain": [
       "Text(0, 0.5, 'X1')"
      ]
     },
     "execution_count": 2,
     "metadata": {},
     "output_type": "execute_result"
    },
    {
     "data": {
      "image/png": "[encoded data removed]",
      "text/plain": [
       "<Figure size 432x288 with 1 Axes>"
      ]
     },
     "metadata": {
      "needs_background": "light"
     },
     "output_type": "display_data"
    }
   ],
   "source": [
    "# Linear Regression\n",
    "# Data\n",
    "X = np.random.rand(15,2)*5\n",
    "W = np.random.rand(2,1)*10\n",
    "b = np.random.randn()*5\n",
    "y = X.dot(W)+b+np.random.randn(15,1)/3\n",
    "\n",
    "fig, ax = plt.subplots()\n",
    "ax.scatter(X[:,0],X[:,1],s=y*20)\n",
    "ax.set_xlabel(\"X0\")\n",
    "ax.set_ylabel(\"X1\")"
   ]
  },
  {
   "cell_type": "code",
   "execution_count": 3,
   "metadata": {},
   "outputs": [
    {
     "name": "stdout",
     "output_type": "stream",
     "text": [
      "<tf.Variable 'Variable:0' shape=(15, 2) dtype=float64, numpy=\n",
      "array([[3.28835429, 3.62068058],\n",
      "       [0.34752832, 4.77181319],\n",
      "       [0.78633838, 2.67223717],\n",
      "       [3.49859987, 1.78608851],\n",
      "       [0.11393336, 0.31705013],\n",
      "       [2.27310418, 1.93340024],\n",
      "       [1.54512431, 0.68241566],\n",
      "       [3.08782539, 3.37234071],\n",
      "       [2.74039618, 2.13806232],\n",
      "       [0.34427941, 1.52251112],\n",
      "       [4.13613557, 2.83316815],\n",
      "       [0.70802095, 3.41784755],\n",
      "       [0.93084034, 2.77981628],\n",
      "       [0.29272258, 1.75932537],\n",
      "       [0.41249331, 1.79212499]])>\n"
     ]
    }
   ],
   "source": [
    "tensorX = tf.Variable(X, tf.float64)\n",
    "print(tensorX)"
   ]
  },
  {
   "cell_type": "code",
   "execution_count": null,
   "metadata": {},
   "outputs": [],
   "source": []
  },
  {
   "cell_type": "code",
   "execution_count": null,
   "metadata": {},
   "outputs": [],
   "source": []
  },
  {
   "cell_type": "code",
   "execution_count": null,
   "metadata": {},
   "outputs": [],
   "source": []
  },
  {
   "cell_type": "code",
   "execution_count": null,
   "metadata": {},
   "outputs": [],
   "source": []
  },
  {
   "cell_type": "code",
   "execution_count": null,
   "metadata": {},
   "outputs": [],
   "source": []
  },
  {
   "cell_type": "code",
   "execution_count": null,
   "metadata": {},
   "outputs": [],
   "source": []
  }
 ],
 "metadata": {
  "kernelspec": {
   "display_name": "Python 3",
   "language": "python",
   "name": "python3"
  },
  "language_info": {
   "codemirror_mode": {
    "name": "ipython",
    "version": 3
   },
   "file_extension": ".py",
   "mimetype": "text/x-python",
   "name": "python",
   "nbconvert_exporter": "python",
   "pygments_lexer": "ipython3",
   "version": "3.7.4"
  }
 },
 "nbformat": 4,
 "nbformat_minor": 2
}
