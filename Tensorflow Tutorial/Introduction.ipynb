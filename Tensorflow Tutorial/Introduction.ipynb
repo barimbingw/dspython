{
 "cells": [
  {
   "cell_type": "code",
   "execution_count": null,
   "metadata": {},
   "outputs": [],
   "source": []
  },
  {
   "cell_type": "code",
   "execution_count": 1,
   "metadata": {},
   "outputs": [
    {
     "name": "stdout",
     "output_type": "stream",
     "text": [
      "<module 'tensorflow_core._api.v2.version' from 'C:\\\\Users\\\\lenovo\\\\Anaconda3\\\\lib\\\\site-packages\\\\tensorflow_core\\\\_api\\\\v2\\\\version\\\\__init__.py'>\n"
     ]
    }
   ],
   "source": [
    "# Import Library\n",
    "import tensorflow as tf\n",
    "\n",
    "# Version\n",
    "print(tf.version)"
   ]
  },
  {
   "cell_type": "markdown",
   "metadata": {},
   "source": [
    "### Note\n",
    "A tensor is a generalizations of vectors and matrices to potentially higher dimension. Tensorflow represents tensors as n-dimensional arrays of base data types\n",
    "\n",
    "Tensorflow has two main components:\n",
    "1. Graph (Computational Graph): Tensorflow works by building a graph of defined computations. Nothing is computed or stored in this graph. Its simply a way of defining operations that have been written.\n",
    "2. Sessions allows parts of the graph to be executed/evaluated. It allocates memory and resources and handles the execution of the computations we defined"
   ]
  },
  {
   "cell_type": "code",
   "execution_count": 10,
   "metadata": {},
   "outputs": [
    {
     "name": "stdout",
     "output_type": "stream",
     "text": [
      "<tf.Variable 'Variable:0' shape=() dtype=string, numpy=b'this is a string'>\n",
      "<tf.Variable 'Variable:0' shape=() dtype=float32, numpy=1.321>\n",
      "(2, 2)\n"
     ]
    }
   ],
   "source": [
    "# Creating Variable with specific data type\n",
    "string = tf.Variable(\"this is a string\", tf.string)\n",
    "number = tf.Variable(1.321, tf.float64)\n",
    "print(string)\n",
    "print(number)\n",
    "\n",
    "# Creating tensors \n",
    "# 1D-array\n",
    "tensor1D = tf.Variable([1.0, 2.0], tf.float64)\n",
    "tensor2D = tf.Variable([[1.0, 2.0],\n",
    "                        [3.0, 4.0]], tf.float64)\n",
    "# tf.rank(tensor1D)\n",
    "# tf.rank(tensor2D) # output ...numpy = 2 -> the rank of the tensor\n",
    "print(tensor2D.shape) # the dimension of the tensor"
   ]
  },
  {
   "cell_type": "code",
   "execution_count": 12,
   "metadata": {},
   "outputs": [
    {
     "name": "stdout",
     "output_type": "stream",
     "text": [
      "tf.Tensor(\n",
      "[[[1. 1. 1.]\n",
      "  [1. 1. 1.]]], shape=(1, 2, 3), dtype=float32)\n",
      "tf.Tensor(\n",
      "[[[1.]\n",
      "  [1.]\n",
      "  [1.]]\n",
      "\n",
      " [[1.]\n",
      "  [1.]\n",
      "  [1.]]], shape=(2, 3, 1), dtype=float32)\n",
      "tf.Tensor(\n",
      "[[1. 1.]\n",
      " [1. 1.]\n",
      " [1. 1.]], shape=(3, 2), dtype=float32)\n"
     ]
    }
   ],
   "source": [
    "# Changing shape\n",
    "# Create tensor with dimension 1x2x3 with all value equals to one\n",
    "tensor1 = tf.ones((1,2,3)) \n",
    "tensor2 = tf.reshape(tensor1, (2,3,1))\n",
    "tensor3 = tf.reshape(tensor1, (3, -1))\n",
    "\n",
    "print(tensor1)\n",
    "print(tensor2)\n",
    "print(tensor3)"
   ]
  },
  {
   "cell_type": "markdown",
   "metadata": {},
   "source": [
    "### Note\n",
    "Type of tensors:\n",
    "1. Variable\n",
    "2. Constant\n",
    "3. Placeholder\n",
    "4. SparseTensor\n",
    "\n",
    "Sometimes the tensor is a product of operations of tensors, those tensor created as a computational graph, To evaluate the value of the tensor we need to use tf.Session() and then calculated the value using tensor_name.eval()"
   ]
  },
  {
   "cell_type": "code",
   "execution_count": null,
   "metadata": {},
   "outputs": [],
   "source": []
  },
  {
   "cell_type": "code",
   "execution_count": null,
   "metadata": {},
   "outputs": [],
   "source": []
  },
  {
   "cell_type": "code",
   "execution_count": null,
   "metadata": {},
   "outputs": [],
   "source": []
  },
  {
   "cell_type": "code",
   "execution_count": null,
   "metadata": {},
   "outputs": [],
   "source": []
  },
  {
   "cell_type": "code",
   "execution_count": null,
   "metadata": {},
   "outputs": [],
   "source": []
  }
 ],
 "metadata": {
  "kernelspec": {
   "display_name": "Python 3",
   "language": "python",
   "name": "python3"
  },
  "language_info": {
   "codemirror_mode": {
    "name": "ipython",
    "version": 3
   },
   "file_extension": ".py",
   "mimetype": "text/x-python",
   "name": "python",
   "nbconvert_exporter": "python",
   "pygments_lexer": "ipython3",
   "version": "3.7.4"
  }
 },
 "nbformat": 4,
 "nbformat_minor": 2
}
